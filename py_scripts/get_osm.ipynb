{
 "cells": [
  {
   "cell_type": "code",
   "execution_count": 1,
   "metadata": {},
   "outputs": [],
   "source": [
    "import os\n",
    "import osmnx as ox\n",
    "import networkx as nx\n",
    "import pandas as pd\n",
    "from osmnx.io import save_graph_geopackage"
   ]
  },
  {
   "cell_type": "code",
   "execution_count": 2,
   "metadata": {},
   "outputs": [],
   "source": [
    "def get_map_osm(\n",
    "    place=\"\",\n",
    "    location=(-3.7327, -38.5270),\n",
    "    radius=500.0,\n",
    "    savedir = \"../data/\",\n",
    "    city=\"\"\n",
    "):\n",
    "    \"\"\"\n",
    "    Download and process a street network from OpenStreetMap, extracting \n",
    "    attributes for traffic modeling such as speed and capacity.\n",
    "\n",
    "    Parameters\n",
    "    ----------\n",
    "    place : str, optional\n",
    "        Place name string to define area (e.g., \"San Francisco, CA\").\n",
    "    location : tuple of float, optional\n",
    "        Latitude and longitude center point, used if `place` is empty.\n",
    "    radius : float, optional\n",
    "        Distance (in meters) for area radius if using location.\n",
    "    savedir : str, optional\n",
    "        Output path .\n",
    "\n",
    "        If provided, saves the graph to a GeoPackage in 'data/{city}.gpkg'.\n",
    "\n",
    "    Returns\n",
    "    -------\n",
    "    edges_df : pandas.DataFrame\n",
    "        DataFrame with edge info, including speed and capacity estimates.\n",
    "    nodes_df : pandas.DataFrame\n",
    "        DataFrame with node info (lat/lon and original node IDs).\n",
    "    \"\"\"\n",
    "    if not city:\n",
    "        print(\"⚠️ Warning: No city name provided. using 'city'\")\n",
    "        city = \"city\"\n",
    "    if not savedir:\n",
    "        print(\"⚠️ Warning: No savedir name provided. using 'data'\")\n",
    "        savedir = \"data\"\n",
    "\n",
    "    nfile = f\"{savedir}/{city}_nodes.csv\"\n",
    "    efile = f\"{savedir}/{city}_edges.csv\"\n",
    "    gfile = f\"{savedir}/{city}.gpkg\"\n",
    "\n",
    "    os.makedirs(savedir, exist_ok=True)\n",
    "    # Download the graph\n",
    "    if place:\n",
    "        G = ox.graph_from_place(place, network_type=\"drive\", simplify=True)\n",
    "    else:\n",
    "        G = ox.graph_from_point(location, dist=radius, network_type=\"drive\", simplify=True)\n",
    "\n",
    "    print(f\"\\nNumber of nodes: {G.number_of_nodes()}\")\n",
    "    print(f\"Number of edges: {G.number_of_edges()}\")\n",
    "    print(f\"Is directed: {nx.is_directed(G)}\")\n",
    "\n",
    "    # Node data\n",
    "    nodes = list(G.nodes(data=True))\n",
    "    nodes_df = pd.DataFrame({\n",
    "        'idx': range(1, len(nodes) + 1),\n",
    "        'osm_idx': [n for n, _ in nodes],\n",
    "        'lat': [data['y'] for _, data in nodes],\n",
    "        'lon': [data['x'] for _, data in nodes]\n",
    "    })\n",
    "    node_id_map = {n: idx for idx, (n, _) in enumerate(nodes, start=1)}\n",
    "\n",
    "    # Create output directories if they don't exist\n",
    "\n",
    "    nodes_df.to_csv(nfile, index=False)\n",
    "\n",
    "    # Default speeds for highway types (in km/h)\n",
    "    default_speeds = {\n",
    "        \"motorway\": 100,\n",
    "        \"trunk\": 80,\n",
    "        \"primary\": 60,\n",
    "        \"secondary\": 50,\n",
    "        \"tertiary\": 40,\n",
    "        \"residential\": 30,\n",
    "        \"service\": 20\n",
    "    }\n",
    "\n",
    "    default_capacities = {\n",
    "        \"motorway\": 100,\n",
    "        \"trunk\": 80,\n",
    "        \"primary\": 60,\n",
    "        \"secondary\": 50,\n",
    "        \"tertiary\": 40,\n",
    "        \"residential\": 30,\n",
    "        \"service\": 20\n",
    "    }\n",
    "\n",
    "    # Extract edge data\n",
    "    edge_data = []\n",
    "    seen = set()\n",
    "    for u, v, data in G.edges(data=True):\n",
    "        key = (u, v)\n",
    "        if key in seen:\n",
    "            continue\n",
    "        seen.add(key)\n",
    "\n",
    "        length = data.get(\"length\", 0)\n",
    "        highway = data.get(\"highway\", None)\n",
    "        maxspeed = data.get(\"maxspeed\", None)\n",
    "        lanes = data.get(\"lanes\", None)\n",
    "        oneway = data.get(\"oneway\", False)\n",
    "\n",
    "        # Normalize maxspeed\n",
    "        if isinstance(maxspeed, list):\n",
    "            maxspeed = maxspeed[0]\n",
    "        try:\n",
    "            maxspeed_val = int(str(maxspeed).split()[0])\n",
    "        except (ValueError, TypeError):\n",
    "            maxspeed_val = None\n",
    "\n",
    "        # Estimate speed\n",
    "        if maxspeed_val:\n",
    "            speed_kph = maxspeed_val\n",
    "        elif isinstance(highway, list):\n",
    "            speed_kph = default_speeds.get(highway[0], 30)\n",
    "        else:\n",
    "            speed_kph = default_speeds.get(highway, 30)\n",
    "\n",
    "        # Normalize lanes\n",
    "        if isinstance(lanes, list):\n",
    "            lanes = lanes[0]\n",
    "        try:\n",
    "            lanes_val = int(str(lanes))\n",
    "        except (ValueError, TypeError):\n",
    "            lanes_val = 1  # default\n",
    "\n",
    "        # Estimate volume capacity (vehicles per hour)\n",
    "        capacity_vph = lanes_val * 1800\n",
    "\n",
    "        if speed_kph > 0:\n",
    "            free_flow_time = length / (speed_kph * 1000 / 3600)\n",
    "        else:\n",
    "            free_flow_time = None  # fallback in case speed_kph is zero\n",
    "    \n",
    "        edge_data.append({\n",
    "            \"src\": node_id_map[u],\n",
    "            \"dst\": node_id_map[v],\n",
    "            \"osm_src\": u,\n",
    "            \"osm_dst\": v,            \n",
    "            \"length\": length,\n",
    "            \"highway\": highway,\n",
    "            \"maxspeed\": maxspeed_val,\n",
    "            \"lanes\": lanes_val,\n",
    "            \"oneway\": oneway,\n",
    "            \"speed_kph\": speed_kph,\n",
    "            \"free_flow_time_s\": free_flow_time,\n",
    "            \"capacity_vph\": capacity_vph\n",
    "        })\n",
    "\n",
    "    edges_df = pd.DataFrame(edge_data)\n",
    "    edges_df.to_csv(efile, index=False)\n",
    "\n",
    "    # Optionally save graph as GeoPackage\n",
    "    if city:\n",
    "        os.makedirs(\"data\", exist_ok=True)\n",
    "        save_graph_geopackage(G, filepath=gfile)\n",
    "\n",
    "    return edges_df, nodes_df"
   ]
  },
  {
   "cell_type": "code",
   "execution_count": 26,
   "metadata": {},
   "outputs": [
    {
     "name": "stdout",
     "output_type": "stream",
     "text": [
      "\n",
      "Number of nodes: 10010\n",
      "Number of edges: 27591\n",
      "Is directed: True\n"
     ]
    }
   ],
   "source": [
    "edges, nodes = get_map_osm(\n",
    "    place=\"San Francisco, California, USA\",\n",
    "    savedir=\"../data/\",\n",
    "    city=\"sanfrancisco\"\n",
    ")"
   ]
  },
  {
   "cell_type": "code",
   "execution_count": 27,
   "metadata": {},
   "outputs": [
    {
     "name": "stdout",
     "output_type": "stream",
     "text": [
      "\n",
      "Number of nodes: 11330\n",
      "Number of edges: 25942\n",
      "Is directed: True\n"
     ]
    }
   ],
   "source": [
    "edges, nodes = get_map_osm(\n",
    "    place=\"Boston, Massachusetts, USA\",\n",
    "    savedir=\"../data/\",\n",
    "    city=\"boston\"\n",
    ")"
   ]
  },
  {
   "cell_type": "code",
   "execution_count": 28,
   "metadata": {},
   "outputs": [
    {
     "name": "stdout",
     "output_type": "stream",
     "text": [
      "\n",
      "Number of nodes: 4607\n",
      "Number of edges: 9888\n",
      "Is directed: True\n"
     ]
    }
   ],
   "source": [
    "edges, nodes = get_map_osm(\n",
    "    place=\"Manhattan, New York, USA\",\n",
    "    savedir=\"../data/\",\n",
    "    city=\"manhattan\"\n",
    ")"
   ]
  },
  {
   "cell_type": "code",
   "execution_count": 4,
   "metadata": {},
   "outputs": [
    {
     "name": "stdout",
     "output_type": "stream",
     "text": [
      "\n",
      "Number of nodes: 20598\n",
      "Number of edges: 55644\n",
      "Is directed: True\n"
     ]
    }
   ],
   "source": [
    "bay_area_places = [\n",
    "    \"San Francisco, California, USA\",\n",
    "    \"Oakland, California, USA\",\n",
    "    \"Berkeley, California, USA\",\n",
    "    \"San Jose, California, USA\",\n",
    "    \"Fremont, California, USA\",\n",
    "    \"Palo Alto, California, USA\",\n",
    "    \"Mountain View, California, USA\"\n",
    "]\n",
    "\n",
    "edges, nodes = get_map_osm(\n",
    "    place=bay_area_places,\n",
    "    savedir=\"../data/\",\n",
    "    city=\"bay_area\"\n",
    ")"
   ]
  },
  {
   "cell_type": "code",
   "execution_count": null,
   "metadata": {},
   "outputs": [],
   "source": []
  }
 ],
 "metadata": {
  "kernelspec": {
   "display_name": "py312",
   "language": "python",
   "name": "python3"
  },
  "language_info": {
   "codemirror_mode": {
    "name": "ipython",
    "version": 3
   },
   "file_extension": ".py",
   "mimetype": "text/x-python",
   "name": "python",
   "nbconvert_exporter": "python",
   "pygments_lexer": "ipython3",
   "version": "3.12.2"
  }
 },
 "nbformat": 4,
 "nbformat_minor": 2
}
