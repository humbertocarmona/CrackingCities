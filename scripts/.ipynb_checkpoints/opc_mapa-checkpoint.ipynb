{
 "cells": [
  {
   "cell_type": "code",
   "execution_count": 1,
   "metadata": {},
   "outputs": [],
   "source": [
    "using Revise"
   ]
  },
  {
   "cell_type": "code",
   "execution_count": 3,
   "metadata": {},
   "outputs": [],
   "source": [
    "using OPC\n",
    "using Plots, PlotThemes\n",
    "using CSV, DataFrames\n",
    "using Distributions\n",
    "using Random\n",
    "using PyCall\n",
    "using LightGraphs\n",
    "using SparseArrays"
   ]
  },
  {
   "cell_type": "code",
   "execution_count": 6,
   "metadata": {},
   "outputs": [
    {
     "data": {
      "text/plain": [
       "hist (generic function with 2 methods)"
      ]
     },
     "execution_count": 6,
     "metadata": {},
     "output_type": "execute_result"
    }
   ],
   "source": [
    "include(\"utils.jl\")"
   ]
  },
  {
   "cell_type": "markdown",
   "metadata": {},
   "source": [
    "# 1 - build a network"
   ]
  },
  {
   "cell_type": "code",
   "execution_count": 31,
   "metadata": {},
   "outputs": [],
   "source": [
    "efile = \"../data/manthattan-edges-4h.csv\"\n",
    "nfile = \"../data/manthattan-nodes.csv\"\n",
    "\n",
    "# efile = \"../data/boston-edges-4h.csv\"\n",
    "# nfile = \"../data/boston-nodes.csv\"\n",
    "(g, coords, distmx, weightmx, d) = OPC.buildCityNetwork(efile, nfile);"
   ]
  },
  {
   "cell_type": "code",
   "execution_count": null,
   "metadata": {},
   "outputs": [],
   "source": [
    "# compute fraction of bi-directed links"
   ]
  },
  {
   "cell_type": "code",
   "execution_count": 32,
   "metadata": {},
   "outputs": [
    {
     "name": "stdout",
     "output_type": "stream",
     "text": [
      "0.21570449529562086\n"
     ]
    }
   ],
   "source": [
    "nedges = ne(g)\n",
    "links = collect(edges(g))\n",
    "bi = 0\n",
    "for e in links\n",
    "    s = e.src\n",
    "    d = e.dst\n",
    "    if s < d && has_edge(g,d,s)\n",
    "        bi += 1\n",
    "    end\n",
    "end\n",
    "fraction_bi = bi/(nedges-bi)\n",
    "println(fraction_bi)"
   ]
  },
  {
   "cell_type": "markdown",
   "metadata": {},
   "source": [
    "# 2 - create an OD matrix (res_cellList needed)"
   ]
  },
  {
   "cell_type": "code",
   "execution_count": 8,
   "metadata": {},
   "outputs": [
    {
     "name": "stdout",
     "output_type": "stream",
     "text": [
      "┌ Debug: 1 (3, 13) - (3, 25) distance = 2001.7987881026104\n",
      "└ @ OPC /fast/OPC/OPC.jl/src/odMatrix.jl:69\n"
     ]
    },
    {
     "data": {
      "text/plain": [
       "(1479, 2955)"
      ]
     },
     "execution_count": 8,
     "metadata": {},
     "output_type": "execute_result"
    }
   ],
   "source": [
    "res_cellList = OPC.cellList(coords; cellWidth = 100.0)\n",
    "OD = OPC.odMatrix(\n",
    "    2000.0,\n",
    "    res_cellList;\n",
    "    nDstOrg = 1,\n",
    "    seed = 123,\n",
    "    ns = 1,\n",
    "    square = false,\n",
    "    δ = 0.001,\n",
    ")\n",
    "(orig, dest) = OD[1]\n",
    "# df = DataFrame(lat=[], lon=[], orig=[])\n",
    "# push!(df, [coords[orig][1], coords[orig][2], 1])\n",
    "# push!(df, [coords[dest][1], coords[dest][2], -1])\n",
    "# CSV.write(\"Report20200507/esquema1/odmanhattan.csv\", df)"
   ]
  },
  {
   "cell_type": "markdown",
   "metadata": {},
   "source": [
    "# 3 - crack paths"
   ]
  },
  {
   "cell_type": "code",
   "execution_count": null,
   "metadata": {},
   "outputs": [],
   "source": [
    "nrem, gr, rmmx, pthmx = OPC.crackOptimalPaths(g, orig, dest, weightmx);"
   ]
  },
  {
   "cell_type": "markdown",
   "metadata": {},
   "source": [
    "# 4 save map"
   ]
  },
  {
   "cell_type": "code",
   "execution_count": null,
   "metadata": {},
   "outputs": [],
   "source": [
    "gpd = pyimport(\"geopandas\")\n",
    "geom = pyimport(\"shapely.geometry\")\n",
    "\n",
    "\n",
    "pos = [geom.Point((lon, lat)) for (lat, lon) in coords]\n",
    "links = collect(edges(g))\n",
    "\n",
    "weight  = []\n",
    "geometry = []\n",
    "bidir = []\n",
    "remmx = []\n",
    "pths = []\n",
    "global i=1\n",
    "for e in links\n",
    "    s = e.src\n",
    "    d = e.dst\n",
    "    f = 0\n",
    "    for e1 in links\n",
    "        if e1.src == d && e1.dst == s\n",
    "            f = 1\n",
    "            break\n",
    "        end\n",
    "    end\n",
    "    push!(bidir, f)\n",
    "    push!(geometry, geom.LineString([pos[s],pos[d]]))\n",
    "    push!(weight, weightmx[s,d])\n",
    "    push!(remmx, rmmx[s,d])\n",
    "    push!(pths, pthmx[s,d])\n",
    "    global i = i+1\n",
    "end\n",
    "data = Dict(\"weight\" => weight, \"bi\"=> bidir, \"rmmx\" => remmx, \"paths\" => pths)\n",
    "gdf = gpd.GeoDataFrame(data=data, geometry=geometry)\n",
    "gdf.to_file(\"mapa.gpkg\", layer=\"OPC\", driver=\"GPKG\")"
   ]
  },
  {
   "cell_type": "code",
   "execution_count": null,
   "metadata": {},
   "outputs": [],
   "source": []
  }
 ],
 "metadata": {
  "kernelspec": {
   "display_name": "Julia 1.4.0",
   "language": "julia",
   "name": "julia-1.4"
  },
  "language_info": {
   "file_extension": ".jl",
   "mimetype": "application/julia",
   "name": "julia",
   "version": "1.4.0"
  }
 },
 "nbformat": 4,
 "nbformat_minor": 4
}
