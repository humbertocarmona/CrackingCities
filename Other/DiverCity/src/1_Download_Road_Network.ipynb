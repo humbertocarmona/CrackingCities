{
 "cells": [
  {
   "cell_type": "markdown",
   "id": "38705b99-0863-4c99-b2bb-e7889fdcc068",
   "metadata": {},
   "source": [
    "# Notebook 1: **Road Networks Extraction using OSMnx**\n",
    "\n",
    "This notebook focuses on downloading and preparing road networks from **OpenStreetMap (OSM)** using the Python package **OSMnx**.  \n",
    "The primary objective is to extract the road network of a city or a specific geographic area, starting from its central point and expanding radially for a given radius (in meters).\n",
    "\n",
    "---\n",
    "\n",
    "### **Objectives:**  \n",
    "- Download road networks from OSM for a specified location.  \n",
    "- Extract and visualize the road network graph.  \n",
    "- Store the network data for further analysis in subsequent notebooks.  \n",
    "\n",
    "---\n",
    "\n",
    "### **Parameters Used in This Study:**  \n",
    "- **Location:** Defined by geographic coordinates of the city center, sourced from [latlong.net](https://www.latlong.net/).  \n",
    "- **Radius:** **30 km (30,000 meters)**, ensuring comprehensive coverage of the urban area.  \n",
    "- **Network Type:** `drive`, focusing on car navigable roads.  \n",
    "- **Simplification:** `True`, simplifying the graph by removing intermediate nodes while preserving connectivity. This reduces computational complexity for subsequent analysis.  \n",
    "\n",
    "---\n"
   ]
  },
  {
   "cell_type": "code",
   "execution_count": null,
   "id": "9dd9af1b-1bf3-496b-8cfb-01dd415c964e",
   "metadata": {},
   "outputs": [],
   "source": [
    "import os\n",
    "import osmnx as ox\n",
    "import gzip\n",
    "\n",
    "from my_utils import create_folder_if_not_exists"
   ]
  },
  {
   "cell_type": "markdown",
   "id": "f5ef5eea-67b2-4b0e-ad9b-58e90327142c",
   "metadata": {},
   "source": [
    "### 1. Parameters\n",
    "\n",
    "These parameters can be customized to extract road networks for different locations or configurations"
   ]
  },
  {
   "cell_type": "code",
   "execution_count": null,
   "id": "6f972dc0-a785-4437-a792-93ecf33b90fe",
   "metadata": {},
   "outputs": [],
   "source": [
    "net_id = \"pisa\"  # Identifier for the network (useful for saving and organizing)\n",
    "center_point = (43.715906, 10.401866)  # (latitude, longitude) of the center point\n",
    "radius_m = 2000  # Radius in meters for network extraction\n",
    "network_type = \"drive\"  # Type of network ('drive', 'walk', 'bike', 'all')\n",
    "simplify = True  # Simplify the network graph to remove unnecessary nodes\n",
    "\n",
    "save_as_gzip = True # Whether to compress the road network\n",
    "\n",
    "# Destination folder and paths for saving the network data\n",
    "dest_folder = \"../data/road_networks\"\n",
    "dest_path_gz = f\"{dest_folder}/{net_id}_{network_type}_{radius_m}.graphml.gz\"\n",
    "dest_path = f\"{dest_folder}/{net_id}_{network_type}_{radius_m}.graphml\"\n",
    "\n",
    "# Create the destination folder if it doesn't exist\n",
    "create_folder_if_not_exists(dest_folder)"
   ]
  },
  {
   "cell_type": "markdown",
   "id": "5cc7940a-859c-4675-86bd-1cd546dcd6e6",
   "metadata": {},
   "source": [
    "### 2. Road Network download & visualization"
   ]
  },
  {
   "cell_type": "code",
   "execution_count": null,
   "id": "f6d110e8-5619-4719-b1e8-0a181aac9594",
   "metadata": {},
   "outputs": [],
   "source": [
    "G = ox.graph_from_point(center_point, dist=radius_m, network_type=network_type, simplify=simplify)\n",
    "\n",
    "# plot a thumbnail of the map\n",
    "ox.plot_graph(G, node_size=0, show=True, close=True);"
   ]
  },
  {
   "cell_type": "markdown",
   "id": "3fc03890-ead7-4512-8925-48a0be8319d9",
   "metadata": {},
   "source": [
    "### 3. Save the Road Network"
   ]
  },
  {
   "cell_type": "code",
   "execution_count": null,
   "id": "33613015-c305-466f-a60d-eec63af778eb",
   "metadata": {},
   "outputs": [],
   "source": [
    "# Save the network as a regular GraphML file\n",
    "ox.save_graphml(G, dest_path)\n",
    "\n",
    "if save_as_gzip:\n",
    "    # Compress the saved GraphML file\n",
    "    with open(dest_path, 'rb') as f_in:\n",
    "        with gzip.open(dest_path_gz, 'wb') as f_out:\n",
    "            f_out.writelines(f_in)\n",
    "    \n",
    "    # Optionally, remove the uncompressed file after compressing\n",
    "    os.remove(dest_path)"
   ]
  }
 ],
 "metadata": {
  "kernelspec": {
   "display_name": "Python 3 (ipykernel)",
   "language": "python",
   "name": "python3"
  },
  "language_info": {
   "codemirror_mode": {
    "name": "ipython",
    "version": 3
   },
   "file_extension": ".py",
   "mimetype": "text/x-python",
   "name": "python",
   "nbconvert_exporter": "python",
   "pygments_lexer": "ipython3",
   "version": "3.9.18"
  }
 },
 "nbformat": 4,
 "nbformat_minor": 5
}
